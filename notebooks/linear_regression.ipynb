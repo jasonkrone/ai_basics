{
 "cells": [
  {
   "cell_type": "markdown",
   "id": "e9161a0c-f4b5-4468-9ca6-98e980ba2cb0",
   "metadata": {},
   "source": [
    "## Other ideas\n",
    "https://www.reddit.com/r/MachineLearning/comments/1958jbm/d_good_ml_eng_question_banks_for_interviews/ \n",
    "\n",
    "- beam search, attention, dpo,etc\n",
    "- have them code a simple training loop, then modify the loop to use gradient accumulation\n",
    "- demonstrate monte carlo integration, and then use it to approximate pi\n",
    "- top-k sampling/nucleus sampling function for GPT in numpy;\n",
    "- write the transformer layer with PyTorch;\n",
    "- debug this distributed numpy NN implemented;\n",
    "- write a data processing pipleline with pandas/numpy;\n",
    "- implement LR with numpy; \n",
    "- naive bayes\n",
    "-  I have been asked to code simple image classification, sequence to sequence model.\n",
    "\n",
    "Mine:\n",
    "- write a decoder only model from scratch\n",
    "- implement MoE (would be fun, should give it a go) \n",
    "- write a VAE from scratch \n",
    "- write optimizers building your way up (e.g., SGD, SGD + momentum, Adam, ...)\n",
    "- implement BPE\n",
    "- add a KV cache to a model\n",
    "- implement KV cache for local attn\n",
    "- how would you adapt linear attn to get multi-query linear attn\n",
    "\n",
    "https://github.com/alirezadir/Machine-Learning-Interviews/blob/main/src/MLC/ml-coding.md \n",
    "\n",
    "- [X] Linear regression\n",
    "\n",
    "- Logistic regression (code) \n",
    "\n",
    "- K-means clustering (code) \n",
    "\n",
    "- K-nearest neighbors (code 1 - code 2) \n",
    "\n",
    "- Decision trees (code) \n",
    "\n",
    "- Linear SVM (code)\n",
    "\n",
    "- Perceptron (code)\n",
    "- FeedForward NN (code)\n",
    "- Softmax (code)\n",
    "- Convolution (code)\n",
    "- CNN\n",
    "- RNN"
   ]
  },
  {
   "cell_type": "markdown",
   "id": "eebf899f-355e-481a-b96b-64e216d01d58",
   "metadata": {},
   "source": [
    "### Reference Slides\n",
    "\n",
    "Reference: https://web.stanford.edu/class/cme250/files/cme250_lecture2.pdf\n",
    "\n",
    "#### Closed Form\n",
    "\n",
    "- Let X be an N x M matrix containing our feature values \n",
    "- There is a unique least squares solution to the equation Xb = y iff rank(X) = M\n",
    "- To get this least squares solution we want to project Xb onto the col space of X s.t. the residuals are orthogonal (to minimize the 2 norm)\n",
    "- Namely, $X^Tr = X^T(y - Xb) = 0$\n",
    "- This implies that $X^Ty = X^TXb$\n",
    "- Which implies that $b = (X^TX)^{-1}X^Ty$\n",
    "\n",
    "#### Mini-batch SGD\n",
    "\n",
    "- For large datasets, computing $(X^TX)^{-1}$ can be too computationally expensive, so we can use mini-batch GD\n",
    "- We're minimizing the residual sum of squares loss $\\Sigma_{i=0}^n (\\hat{y}^{i} - y^i)$ - i.e. getting the lease squares solution\n",
    "- Useful matrix / vector derivative rules\n",
    "    - $\\frac{d}{dx}(a^Tx) = a$\n",
    "    - $\\frac{d}{dx}(x^Ta) = a$\n",
    "    - $\\frac{d}{dx}(x^TAx) = 2Ax$\n",
    "- We want to minimize the residual sum of squares objective, so the loss can be written as $L = (Xb - y)^T(Xb - y) = b^TX^TXb - b^TX^Ty - y^TXb + y^Ty$\n",
    "- Because the middle two terms are scalars we can write, $L = b^TX^TXb - 2b^TX^Ty + y^Ty$\n",
    "- Adding in the L2 penalty gives us $L = b^TX^TXb - 2b^TX^Ty + y^Ty + \\lambda b^Tb$\n",
    "- Taking the derivative we get $\\frac{d}{db}(L) = 2X^TXb - 2X^Ty + 2\\lambda b = 2X^T(Xb - y) + 2\\lambda b$"
   ]
  },
  {
   "cell_type": "code",
   "execution_count": 1,
   "id": "190b773b-45bf-4ded-b8dd-a47bc188b334",
   "metadata": {},
   "outputs": [],
   "source": [
    "import pdb\n",
    "\n",
    "import numpy as np\n",
    "import matplotlib.pyplot as plt"
   ]
  },
  {
   "cell_type": "code",
   "execution_count": null,
   "id": "7abec416-6f45-4d3a-8399-ee2a061c4a6b",
   "metadata": {},
   "outputs": [],
   "source": []
  },
  {
   "cell_type": "code",
   "execution_count": 5,
   "id": "29e7713c-f655-4dd9-9545-dde5c2b2a439",
   "metadata": {},
   "outputs": [],
   "source": [
    "def gen_data(n, m=3, b=10, rand_coef=3):\n",
    "    \"\"\"\n",
    "    Generates synthetic data to test linear regression\n",
    "    \n",
    "    mx + b + noise\n",
    "    \"\"\"\n",
    "    x = np.arange(n)\n",
    "    y = np.array([xx * m + b + np.random.rand()*rand_coef for xx in x])\n",
    "    return x, y\n",
    "\n",
    "\n",
    "class LinearRegression(object):\n",
    "\n",
    "    def __init__(self, x, y):\n",
    "        self.x = x\n",
    "        self.y = y\n",
    "        self.b = None\n",
    "\n",
    "    def fit(self):\n",
    "        x = np.concatenate([np.ones_like(self.x), self.x], axis=1)\n",
    "        pseudo_inv = np.linalg.inv(x.T @ x)\n",
    "        self.b = pseudo_inv @ x.T @ self.y \n",
    "        self.b = self.b.flatten()\n",
    "\n",
    "    def __call__(self, x_input):\n",
    "        \"\"\"\n",
    "        This assumes that input data is 2d\n",
    "        \"\"\"\n",
    "        y_pred = [xx*self.b[1] + self.b[0] for xx in x_input]\n",
    "        return y_pred\n",
    "\n",
    "\n",
    "class Loader(object):\n",
    "\n",
    "    def __init__(self, x, y, batch_size):\n",
    "        self.x = x\n",
    "        self.y = y\n",
    "        assert x.shape[0] % batch_size == 0\n",
    "        self.n_batches = x.shape[0] // batch_size\n",
    "        self._reset()\n",
    "\n",
    "    def _reset(self):\n",
    "        self.iter = 0\n",
    "        self.idxs = np.arange(self.x.shape[0])        \n",
    "        np.random.shuffle(self.idxs)\n",
    "        self.idxs = np.array_split(self.idxs, self.n_batches)\n",
    "    \n",
    "    def __iter__(self):\n",
    "        self.iter = 0\n",
    "        return self\n",
    "\n",
    "    def __next__(self):\n",
    "        if self.iter >= self.n_batches:\n",
    "            self.iter = 0\n",
    "            self._reset()\n",
    "        batch_idxs = self.idxs[self.iter]\n",
    "        self.iter += 1\n",
    "        return {\"x\": self.x[batch_idxs], \"y\": self.y[batch_idxs]}\n",
    "\n",
    "\n",
    "class ScalableLinearRegression(LinearRegression):\n",
    "\n",
    "    def __init__(self, d_feats, lr, loader, n_iters, reg_coef=0.1):\n",
    "        super().__init__(x=None, y=None)\n",
    "        self.lr = lr\n",
    "        self.loader = loader\n",
    "        self.n_iters = n_iters\n",
    "        self.b = np.zeros(d_feats) #np.random.rand(d_feats)\n",
    "        self.reg_coef = reg_coef\n",
    "    \n",
    "    def fit(self):\n",
    "        for i in range(self.n_iters):\n",
    "            batch = next(self.loader)\n",
    "            x, y = batch[\"x\"], batch[\"y\"]\n",
    "            y_pred = x @ self.b\n",
    "            # TODO: does the order here matter\n",
    "            residual = y_pred - y\n",
    "            loss = np.mean((residual)**2, axis=0)\n",
    "            #grad = (2 * x.T) @ residual\n",
    "            # TODO: why isn't this a negative 2 in front\n",
    "            #grad = 2 * np.dot(x.T, (y_pred - y)) \n",
    "            grad = (2 / x.shape[0]) * x.T @ (y_pred - y) + 2*self.reg_coef*self.b\n",
    "            self.b = self.b - self.lr * grad\n",
    " "
   ]
  },
  {
   "cell_type": "code",
   "execution_count": 131,
   "id": "d2517845-b39a-45b9-83c5-74199d2f183d",
   "metadata": {},
   "outputs": [],
   "source": [
    "class MiniBatchLinearRegression(LinearRegression):\n",
    "\n",
    "    def __init__(self, loader, n_feats, n_iters=100, lr=0.001, l2_coef=0.1):\n",
    "        super().__init__(x=None, y=None)\n",
    "        self.loader = loader\n",
    "        self.l2_coef = l2_coef\n",
    "        self.lr = lr\n",
    "        self.n_iters = n_iters\n",
    "        self.b = np.zeros(n_feats)\n",
    "\n",
    "    def fit(self):\n",
    "        for _ in range(self.n_iters):\n",
    "            batch = next(self.loader)\n",
    "            x = batch[\"x\"]\n",
    "            y = batch[\"y\"]\n",
    "            pred = x @ self.b\n",
    "            grad = 2 * x.T @ (pred - y) + 2*self.l2_coef*self.b\n",
    "            grad /= x.shape[0]\n",
    "            self.b = self.b - self.lr * grad\n",
    "            "
   ]
  },
  {
   "cell_type": "code",
   "execution_count": null,
   "id": "44d782eb-ca25-437b-9d8e-2cd54d6f7dbb",
   "metadata": {},
   "outputs": [],
   "source": []
  },
  {
   "cell_type": "code",
   "execution_count": 132,
   "id": "4393bfea-f8eb-4153-a4e2-98e955d49694",
   "metadata": {},
   "outputs": [
    {
     "data": {
      "text/plain": [
       "{'x': array([[  1., 161.],\n",
       "        [  1., 310.],\n",
       "        [  1.,  49.],\n",
       "        [  1.,  92.]]),\n",
       " 'y': array([494.80926767, 940.76047352, 158.89131576, 288.11207969])}"
      ]
     },
     "execution_count": 132,
     "metadata": {},
     "output_type": "execute_result"
    }
   ],
   "source": [
    "next(loader)"
   ]
  },
  {
   "cell_type": "code",
   "execution_count": null,
   "id": "6a2c29f8-05e4-443a-bea6-d2dd906c3c88",
   "metadata": {},
   "outputs": [],
   "source": []
  },
  {
   "cell_type": "code",
   "execution_count": null,
   "id": "36e2e6a1-4d23-4d2a-bc48-6265d9b2b040",
   "metadata": {},
   "outputs": [],
   "source": []
  },
  {
   "cell_type": "code",
   "execution_count": 133,
   "id": "ae6ec870-b780-4e7d-a609-18373b2a4218",
   "metadata": {},
   "outputs": [],
   "source": [
    "x_gen_big, y_gen_big = gen_data(4*100)\n",
    "# put x into the expected shape\n",
    "x_gen_big = x_gen_big.reshape(-1, 1)\n",
    "y_gen_big = y_gen_big.reshape(-1, 1)\n",
    "\n",
    "loader = Loader(\n",
    "    x=np.concatenate([np.ones(x_gen_big.shape[0]).reshape(-1, 1), x_gen_big], axis=1),\n",
    "    y=y_gen_big.flatten(),\n",
    "    batch_size=4,\n",
    ")"
   ]
  },
  {
   "cell_type": "code",
   "execution_count": 134,
   "id": "52fac99e-b25e-47e9-8937-cd37bdd22aba",
   "metadata": {},
   "outputs": [],
   "source": [
    "slr = ScalableLinearRegression(d_feats=2, lr=1e-6, loader=loader, n_iters=100)"
   ]
  },
  {
   "cell_type": "code",
   "execution_count": 135,
   "id": "da2dd0bb-6d6b-480e-8c49-1dc5b26c308f",
   "metadata": {},
   "outputs": [],
   "source": [
    "slr.fit()"
   ]
  },
  {
   "cell_type": "code",
   "execution_count": 151,
   "id": "a9549b8f-d37f-4aaf-a0d8-3077b0e5e9f6",
   "metadata": {},
   "outputs": [],
   "source": [
    "mblr = MiniBatchLinearRegression(n_feats=2, lr=1e-5, loader=loader, n_iters=1000, l2_coef=0.1)"
   ]
  },
  {
   "cell_type": "code",
   "execution_count": 152,
   "id": "2ee68684-7898-447b-b861-1407fe265e49",
   "metadata": {},
   "outputs": [],
   "source": [
    "mblr.fit()"
   ]
  },
  {
   "cell_type": "code",
   "execution_count": 153,
   "id": "e7ce6f0f-7a77-432c-a5de-0e6d39b4ec47",
   "metadata": {},
   "outputs": [
    {
     "data": {
      "text/plain": [
       "array([0.05849782, 3.04083161])"
      ]
     },
     "execution_count": 153,
     "metadata": {},
     "output_type": "execute_result"
    }
   ],
   "source": [
    "mblr.b"
   ]
  },
  {
   "cell_type": "code",
   "execution_count": 154,
   "id": "59abe1b5-5595-4dd7-8bb0-5eb946855f22",
   "metadata": {},
   "outputs": [],
   "source": [
    "y_pred_mblr = mblr(x_gen_big)"
   ]
  },
  {
   "cell_type": "code",
   "execution_count": null,
   "id": "637774ee-6b6d-4edb-a501-0cf3c45aea16",
   "metadata": {},
   "outputs": [],
   "source": []
  },
  {
   "cell_type": "code",
   "execution_count": 155,
   "id": "c1fe88cf-0580-432d-b0d0-b6df5e89b86d",
   "metadata": {},
   "outputs": [
    {
     "data": {
      "text/plain": [
       "<matplotlib.legend.Legend at 0x14072af80>"
      ]
     },
     "execution_count": 155,
     "metadata": {},
     "output_type": "execute_result"
    },
    {
     "data": {
      "image/png": "[encoded data removed]",
      "text/plain": [
       "<Figure size 640x480 with 1 Axes>"
      ]
     },
     "metadata": {},
     "output_type": "display_data"
    }
   ],
   "source": [
    "y_pred_big = slr(x_gen_big)\n",
    "\n",
    "plt.plot(x_gen_big, y_gen_big, label=\"data\")\n",
    "#plt.plot(x_gen_big, y_pred_big, label=\"preds-gd\")\n",
    "plt.plot(x_gen_big, y_pred_mblr, label=\"preds-gd2\")\n",
    "plt.legend()"
   ]
  },
  {
   "cell_type": "code",
   "execution_count": null,
   "id": "7fa4845b-0203-4ab2-8b0c-2897f83e2fb4",
   "metadata": {},
   "outputs": [],
   "source": []
  },
  {
   "cell_type": "code",
   "execution_count": null,
   "id": "bb19c2fc-1ae6-4365-8d3e-9e71586e3135",
   "metadata": {},
   "outputs": [],
   "source": []
  },
  {
   "cell_type": "code",
   "execution_count": 12,
   "id": "e8e8a6e5-9ea1-4e5e-a9ad-7c80a25dd450",
   "metadata": {},
   "outputs": [],
   "source": [
    "x_gen, y_gen = gen_data(10)\n",
    "# put x into the expected shape\n",
    "x_gen = x_gen.reshape(-1, 1)\n",
    "y_gen = y_gen.reshape(-1, 1)"
   ]
  },
  {
   "cell_type": "code",
   "execution_count": 13,
   "id": "80aee447-0467-400f-945f-81343604d383",
   "metadata": {},
   "outputs": [],
   "source": [
    "lin_reg = LinearRegression(x_gen, y_gen)\n",
    "lin_reg.fit()\n",
    "y_pred = lin_reg(x_gen)"
   ]
  },
  {
   "cell_type": "code",
   "execution_count": 14,
   "id": "e9797546-79ff-475f-bfc7-764bd7ce20e4",
   "metadata": {},
   "outputs": [
    {
     "data": {
      "image/png": "[encoded data removed]",
      "text/plain": [
       "<Figure size 640x480 with 1 Axes>"
      ]
     },
     "metadata": {},
     "output_type": "display_data"
    }
   ],
   "source": [
    "plt.plot(x_gen, y_gen, label=\"data\")\n",
    "plt.plot(x_gen, y_pred, label=\"preds\")\n",
    "plt.legend()\n",
    "plt.show()"
   ]
  },
  {
   "cell_type": "code",
   "execution_count": null,
   "id": "a31e8d42-7ad4-455a-b8b0-3b128ee1b945",
   "metadata": {},
   "outputs": [],
   "source": []
  },
  {
   "cell_type": "code",
   "execution_count": null,
   "id": "baa25f61-15cf-46f7-bd6c-438891b169b9",
   "metadata": {},
   "outputs": [],
   "source": []
  },
  {
   "cell_type": "code",
   "execution_count": null,
   "id": "3df408b4-3165-46c1-8f73-70fb6d928d89",
   "metadata": {},
   "outputs": [],
   "source": []
  }
 ],
 "metadata": {
  "kernelspec": {
   "display_name": "jpt",
   "language": "python",
   "name": "jpt"
  },
  "language_info": {
   "codemirror_mode": {
    "name": "ipython",
    "version": 3
   },
   "file_extension": ".py",
   "mimetype": "text/x-python",
   "name": "python",
   "nbconvert_exporter": "python",
   "pygments_lexer": "ipython3",
   "version": "3.10.16"
  }
 },
 "nbformat": 4,
 "nbformat_minor": 5
}
