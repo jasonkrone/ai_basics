{
 "cells": [
  {
   "cell_type": "markdown",
   "id": "282a535a-e77c-4bde-b8bc-65cfe0b69318",
   "metadata": {},
   "source": [
    "## Metrics Prep\n",
    "\n",
    "- [ ] BLEU score\n",
    "- [ ] Precision\n",
    "- [ ] Recall\n",
    "- [ ] ROC Curve\n",
    "- [ ] F1 Score\n",
    "- [ ] Perplexity\n",
    "\n",
    "\n",
    "\n",
    "\n",
    "\n",
    "\n",
    "### What Might be in AI Coding\n",
    "- K-means clustering, k-NN classification, or even a 2D convolution operation from scratch\n",
    "- precision and recall, Intersection over Union (IoU) for object detection, or implementing cross-entropy loss calculation\n",
    "- ROC curve and AUC, or ensuring you understand log-sum-exp tricks for stability\n",
    "- implement a forward pass for a layer or small neural net (such as coding a convolution or a simple feed-forward network) and discuss how to compute gradients.\n",
    "- mini backpropagation\n",
    "    - initializing parameters, looping or using matrix ops for computations, zeroing out gradients between iterations\n",
    "- gradient accumulation\n",
    "- why we zero gradients before backprop in PyTorch\n",
    "- modify a training loop to run on multiple GPUs or how to handle very large input data in chunks.\n",
    "- writing a small snippet using torch tensors or explaining how autograd works\n",
    "- how to create a custom data loader, how to use PyTorch’s neural network modules, or how to calculate gradients manually could be assessed.\n"
   ]
  },
  {
   "cell_type": "code",
   "execution_count": 2,
   "id": "f6712856-84a9-4985-8d52-64b90a8161c8",
   "metadata": {},
   "outputs": [],
   "source": [
    "import numpy as np"
   ]
  },
  {
   "cell_type": "code",
   "execution_count": 25,
   "id": "e521f122-3f7f-4cc3-8016-84deffd10f14",
   "metadata": {},
   "outputs": [],
   "source": [
    "import torch"
   ]
  },
  {
   "cell_type": "code",
   "execution_count": 1,
   "id": "9ee01602-ef83-4b85-a870-6755d609995c",
   "metadata": {},
   "outputs": [],
   "source": [
    "import transformers"
   ]
  },
  {
   "cell_type": "code",
   "execution_count": 95,
   "id": "3db9a2be-a13b-467f-b830-7ffe777797b1",
   "metadata": {},
   "outputs": [],
   "source": [
    "import matplotlib.pyplot as plt"
   ]
  },
  {
   "cell_type": "code",
   "execution_count": 58,
   "id": "f862e7d5-270b-46a5-8ebf-23602f98be25",
   "metadata": {},
   "outputs": [],
   "source": [
    "import sklearn.metrics as skm"
   ]
  },
  {
   "cell_type": "markdown",
   "id": "6797843b-0994-4248-a871-0cdd3a583ed7",
   "metadata": {},
   "source": [
    "### Binary Classification Data"
   ]
  },
  {
   "cell_type": "code",
   "execution_count": 42,
   "id": "ccb53123-dda5-4fdf-ad2a-a28d09f3f569",
   "metadata": {},
   "outputs": [],
   "source": [
    "def error_counts(preds, targets):\n",
    "    n_tp = ((targets == 1) * (preds == 1)).sum()\n",
    "    n_fp = ((targets == 0) * (preds == 1)).sum()\n",
    "    n_tn = ((targets == 0) * (preds == 0)).sum()\n",
    "    n_fn = ((targets == 1) * (preds == 0)).sum()\n",
    "    return {\"tp\": n_tp, \"fp\": n_fp, \"tn\": n_tn, \"fn\": n_fn}"
   ]
  },
  {
   "cell_type": "code",
   "execution_count": null,
   "id": "caede9d3-4c41-46b8-a7ac-648192035446",
   "metadata": {},
   "outputs": [],
   "source": []
  },
  {
   "cell_type": "code",
   "execution_count": 18,
   "id": "0a79a334-7fe5-45a6-b28b-b22b36c95a03",
   "metadata": {},
   "outputs": [],
   "source": [
    "n = 100\n",
    "y_gold = np.random.randint(low=0, high=2, size=n)"
   ]
  },
  {
   "cell_type": "code",
   "execution_count": 10,
   "id": "ba7ece1e-1a53-4062-a63e-5b041ff6733f",
   "metadata": {},
   "outputs": [],
   "source": [
    "probs = np.random.rand(n)"
   ]
  },
  {
   "cell_type": "code",
   "execution_count": 14,
   "id": "3ebc2866-d240-4ad4-a722-1f40e29ddb34",
   "metadata": {},
   "outputs": [],
   "source": [
    "threshold = 0.57\n",
    "y_pred = np.array([0 if p < threshold else 1 for p in probs])"
   ]
  },
  {
   "cell_type": "code",
   "execution_count": 43,
   "id": "06efc661-4f6a-4269-8142-67bfc735f55d",
   "metadata": {},
   "outputs": [],
   "source": [
    "results_dict = error_counts(y_pred, y_gold)"
   ]
  },
  {
   "cell_type": "code",
   "execution_count": 44,
   "id": "13644f1f-d104-47cb-ac3d-f946f3f5ebff",
   "metadata": {},
   "outputs": [
    {
     "data": {
      "text/plain": [
       "{'tp': 26, 'fp': 18, 'tn': 24, 'fn': 32}"
      ]
     },
     "execution_count": 44,
     "metadata": {},
     "output_type": "execute_result"
    }
   ],
   "source": [
    "results_dict"
   ]
  },
  {
   "cell_type": "code",
   "execution_count": null,
   "id": "8bba139a-5041-4955-ac77-96e6b233f299",
   "metadata": {},
   "outputs": [],
   "source": []
  },
  {
   "cell_type": "markdown",
   "id": "ea7d0f42-9190-4817-87ba-4dab7d42a6b0",
   "metadata": {},
   "source": [
    "### Precision\n",
    "\n",
    "Precision = TP / (TP + FP)\n",
    "\n",
    "Q: is there a notion of precision in multi-class classification ? \n"
   ]
  },
  {
   "cell_type": "code",
   "execution_count": 46,
   "id": "f1e2d114-4ca5-439e-a29c-d43c108ee5f4",
   "metadata": {},
   "outputs": [],
   "source": [
    "def precision(results):\n",
    "    prec = results[\"tp\"] / (results[\"tp\"] + results[\"fp\"])\n",
    "    return prec"
   ]
  },
  {
   "cell_type": "code",
   "execution_count": 61,
   "id": "a6dd0c33-ed3f-4270-a5a7-d9701d936c0b",
   "metadata": {},
   "outputs": [],
   "source": [
    "my_precision = precision(results_dict)"
   ]
  },
  {
   "cell_type": "code",
   "execution_count": 62,
   "id": "5be08c10-f7b2-4fca-82b2-58a57da233b2",
   "metadata": {},
   "outputs": [],
   "source": [
    "sk_precision = skm.precision_score(y_gold, y_pred)"
   ]
  },
  {
   "cell_type": "code",
   "execution_count": 63,
   "id": "9d7748cc-5f16-4c1e-ac0a-36a9f44b884d",
   "metadata": {},
   "outputs": [
    {
     "name": "stdout",
     "output_type": "stream",
     "text": [
      "correct: True\n"
     ]
    }
   ],
   "source": [
    "print(\"correct:\", my_precision == sk_precision)"
   ]
  },
  {
   "cell_type": "code",
   "execution_count": null,
   "id": "63c3dbe3-8360-41b8-9d9e-c38ff9e08f39",
   "metadata": {},
   "outputs": [],
   "source": []
  },
  {
   "cell_type": "markdown",
   "id": "4c57babb-bd16-476f-8c04-71e9215c647c",
   "metadata": {},
   "source": [
    "### Recall\n",
    "\n",
    "Recall = TP / (TP + FN)"
   ]
  },
  {
   "cell_type": "code",
   "execution_count": 48,
   "id": "189c37f4-4cc2-4b46-93c9-3bda9d16e2c2",
   "metadata": {},
   "outputs": [],
   "source": [
    "def recall(results):\n",
    "    rec = results[\"tp\"] / (results[\"tp\"] + results[\"fn\"])\n",
    "    return rec"
   ]
  },
  {
   "cell_type": "code",
   "execution_count": 64,
   "id": "42ff81ad-f8ae-413d-8587-f6c2e769e783",
   "metadata": {},
   "outputs": [],
   "source": [
    "my_recall = recall(results_dict)"
   ]
  },
  {
   "cell_type": "code",
   "execution_count": 65,
   "id": "91c57571-5fb9-4876-bc92-2c7a81071671",
   "metadata": {},
   "outputs": [],
   "source": [
    "sk_recall = skm.recall_score(y_gold, y_pred)"
   ]
  },
  {
   "cell_type": "code",
   "execution_count": 66,
   "id": "a1c25b4a-9f1c-46b1-8631-81b523af4747",
   "metadata": {},
   "outputs": [
    {
     "name": "stdout",
     "output_type": "stream",
     "text": [
      "correct: True\n"
     ]
    }
   ],
   "source": [
    "print(\"correct:\", my_recall == sk_recall)"
   ]
  },
  {
   "cell_type": "code",
   "execution_count": null,
   "id": "31cacc16-49db-4e9c-9c88-7e106ce4fdc3",
   "metadata": {},
   "outputs": [],
   "source": []
  },
  {
   "cell_type": "markdown",
   "id": "66ea4187-47bb-4db2-afc2-a47ac94f3ac8",
   "metadata": {},
   "source": [
    "### F1 Score\n",
    "\n",
    "Harmonic mean of precision and recall. In the sample two number case, harmonic mean can be written as:\n",
    "\n",
    "$$H = 2 * \\frac{(x_1 * x_2)}{x_1 + x_2}$$\n",
    "\n",
    "\n",
    "- Number is low unless both precision & recall are high\n",
    "- Assumes you care equally about false positives & false negatives\n",
    "\n"
   ]
  },
  {
   "cell_type": "code",
   "execution_count": 54,
   "id": "ffd70b52-3bd1-4ebb-bd65-0b65cf8142df",
   "metadata": {},
   "outputs": [],
   "source": [
    "def f1_score(results):\n",
    "    prec = precision(results)\n",
    "    rec  = recall(results)\n",
    "    return 2 * (prec * rec) / (prec + rec)"
   ]
  },
  {
   "cell_type": "code",
   "execution_count": 69,
   "id": "8b77d1c5-90e7-42d8-8bad-6ef7cbcbe748",
   "metadata": {},
   "outputs": [],
   "source": [
    "my_f1 = f1_score(results_dict)"
   ]
  },
  {
   "cell_type": "code",
   "execution_count": 67,
   "id": "f24fba84-00a3-4d20-8ea7-6f81a3062a70",
   "metadata": {},
   "outputs": [],
   "source": [
    "sk_f1 = skm.f1_score(y_gold, y_pred)"
   ]
  },
  {
   "cell_type": "code",
   "execution_count": 71,
   "id": "a256a6ef-9067-4a3a-a48f-dbab1cf44540",
   "metadata": {},
   "outputs": [
    {
     "name": "stdout",
     "output_type": "stream",
     "text": [
      "correct: True\n"
     ]
    }
   ],
   "source": [
    "print(\"correct:\", sk_f1 == my_f1)"
   ]
  },
  {
   "cell_type": "markdown",
   "id": "bba47e98-dd2a-45b4-880a-2857af14c0ae",
   "metadata": {},
   "source": [
    "### ROC Curve\n",
    "\n",
    "* X-axis: False Positive rate (FPR) = FP / (FP + TN)\n",
    "    * Out of all negative examples, how many did you predict as positive\n",
    "* Y-axis: True Positive Rate (TPR) = TP / (TP + FN) = Recall\n",
    "    * Out of all positive examples, how many did you predict as positive\n",
    "\n",
    "\n",
    "Interpretation: \n",
    "* A model that does a perfect job separating positive and negative cases will get a TPR = 1.0 and a FPR = 0.0\n",
    "\n",
    "Ways ROC curves can be gamed:\n",
    "* Imbalanced dataset e.g., where positives are very rare, will make an ROC curve look good when it's not\n",
    "* Treates flase positives and false negatives as equally bad. In real world tasks (e.g., spam detection) these are not equally bad "
   ]
  },
  {
   "cell_type": "code",
   "execution_count": 72,
   "id": "2fcdd89b-3446-424c-a8a7-fd820d9cfd2a",
   "metadata": {},
   "outputs": [],
   "source": [
    "# positive is score >= threshold"
   ]
  },
  {
   "cell_type": "code",
   "execution_count": 91,
   "id": "f8af2b77-26c5-456b-9956-06774f90007b",
   "metadata": {},
   "outputs": [],
   "source": [
    "y_target = y_gold"
   ]
  },
  {
   "cell_type": "code",
   "execution_count": 80,
   "id": "b67f3df9-3516-49b4-b589-00a624f7d481",
   "metadata": {},
   "outputs": [],
   "source": [
    "y_scores = probs"
   ]
  },
  {
   "cell_type": "code",
   "execution_count": 92,
   "id": "074052a2-8a37-4f48-8529-4aa670378a69",
   "metadata": {},
   "outputs": [],
   "source": [
    "def plot_roc_curve(y_scores, y_target):\n",
    "    # FPR = FP / (FP + TN)\n",
    "    # TPR = TP / (TP + FN)\n",
    "    thresholds = sorted(list(set(probs)), reverse=True) + [float(\"-inf\")]\n",
    "    tpr = []\n",
    "    fpr = []\n",
    "    \n",
    "    for t in thresholds:\n",
    "        preds = np.zeros_like(y_scores)\n",
    "        pos_idx = y_scores >= t \n",
    "        preds[pos_idx] = 1\n",
    "        results = error_counts(preds, y_target)\n",
    "        tpr.append(results[\"tp\"] / (results[\"tp\"] + results[\"fn\"]))\n",
    "        fpr.append(results[\"fp\"] / (results[\"fp\"] + results[\"tn\"]))\n",
    "    return np.array(fpr), np.array(tpr)"
   ]
  },
  {
   "cell_type": "code",
   "execution_count": 121,
   "id": "f4c57608-53ce-42cb-8a24-721e9e38a879",
   "metadata": {},
   "outputs": [],
   "source": [
    "xs, ys = plot_roc_curve(probs, y_gold)"
   ]
  },
  {
   "cell_type": "code",
   "execution_count": 97,
   "id": "6e9f12ad-1062-485c-8539-cdc83584cb66",
   "metadata": {},
   "outputs": [
    {
     "data": {
      "text/plain": [
       "[<matplotlib.lines.Line2D at 0x137abb920>]"
      ]
     },
     "execution_count": 97,
     "metadata": {},
     "output_type": "execute_result"
    },
    {
     "data": {
      "image/png": "[encoded data removed]",
      "text/plain": [
       "<Figure size 640x480 with 1 Axes>"
      ]
     },
     "metadata": {},
     "output_type": "display_data"
    }
   ],
   "source": [
    "plt.plot(xs, ys)"
   ]
  },
  {
   "cell_type": "code",
   "execution_count": 98,
   "id": "a9f5c1d0-9dc0-4eb1-8cf7-010829f3a89c",
   "metadata": {},
   "outputs": [],
   "source": [
    "sk_xs, sk_ys, _ = skm.roc_curve(y_gold, probs)"
   ]
  },
  {
   "cell_type": "code",
   "execution_count": 99,
   "id": "43256349-04c5-4d70-b7f1-3ff8c23af283",
   "metadata": {},
   "outputs": [
    {
     "data": {
      "text/plain": [
       "[<matplotlib.lines.Line2D at 0x137b94b00>]"
      ]
     },
     "execution_count": 99,
     "metadata": {},
     "output_type": "execute_result"
    },
    {
     "data": {
      "image/png": "[encoded data removed]",
      "text/plain": [
       "<Figure size 640x480 with 1 Axes>"
      ]
     },
     "metadata": {},
     "output_type": "display_data"
    }
   ],
   "source": [
    "plt.plot(sk_xs, sk_ys)"
   ]
  },
  {
   "cell_type": "code",
   "execution_count": null,
   "id": "5498477b-3a78-4626-8dd7-4030c4a1752a",
   "metadata": {},
   "outputs": [],
   "source": []
  },
  {
   "cell_type": "markdown",
   "id": "1f6a897d-a351-4921-b137-f22246ec959f",
   "metadata": {},
   "source": [
    "### AUC \n",
    "\n"
   ]
  },
  {
   "cell_type": "code",
   "execution_count": 122,
   "id": "77cc6a2e-6f2b-4c0f-b701-716da62a3b88",
   "metadata": {},
   "outputs": [],
   "source": [
    "def auc(fpr, tpr):\n",
    "    \"\"\"\n",
    "    This is using the trapezoid rule and assumes FPR / TPR are sorted in increasing order by FPR \n",
    "\n",
    "    Trapezoid area = h * (a + b)/2 \n",
    "    \"\"\"\n",
    "    # each of these range from 0 to one\n",
    "    total = 0\n",
    "    for i in range(len(fpr)-1):\n",
    "        # we assume it's of height y1 until we hit x2\n",
    "        x1 = fpr[i]\n",
    "        x2 = fpr[i+1]\n",
    "        y1 = tpr[i]\n",
    "        y2 = tpr[i+1]\n",
    "        total += (x2 - x1) * (y1 + y1) * 0.5\n",
    "    return total"
   ]
  },
  {
   "cell_type": "code",
   "execution_count": 123,
   "id": "f8aec65c-47fd-47df-b9f0-a9e9f9f2eac8",
   "metadata": {},
   "outputs": [
    {
     "data": {
      "text/plain": [
       "0.501231527093596"
      ]
     },
     "execution_count": 123,
     "metadata": {},
     "output_type": "execute_result"
    }
   ],
   "source": [
    "auc(xs, ys)"
   ]
  },
  {
   "cell_type": "code",
   "execution_count": null,
   "id": "13feeb13-e432-4c4b-9150-6f037bbc4c36",
   "metadata": {},
   "outputs": [],
   "source": []
  },
  {
   "cell_type": "markdown",
   "id": "3b3ce41f-a33d-43af-8c51-c0a2b6939f16",
   "metadata": {},
   "source": [
    "### Perplexity \n",
    "\n",
    "$$ 2^{- \\frac{1}{n} \\sum_{i=1}^{n} \\log p(x_i | x_{i-1}, ...,) }$$ \n",
    "\n",
    "\n",
    "- Min value: 1 \n",
    "- Max value: inf\n",
    "- lower is better\n",
    "- As uncertain as if the model is uniformly guessing amount perplexity choices"
   ]
  },
  {
   "cell_type": "code",
   "execution_count": 11,
   "id": "64133050-2270-441b-9388-38ea5e1f8d69",
   "metadata": {},
   "outputs": [
    {
     "name": "stderr",
     "output_type": "stream",
     "text": [
      "huggingface/tokenizers: The current process just got forked, after parallelism has already been used. Disabling parallelism to avoid deadlocks...\n",
      "To disable this warning, you can either:\n",
      "\t- Avoid using `tokenizers` before the fork if possible\n",
      "\t- Explicitly set the environment variable TOKENIZERS_PARALLELISM=(true | false)\n"
     ]
    }
   ],
   "source": [
    "model = transformers.AutoModelForCausalLM.from_pretrained(\n",
    "  \"EleutherAI/pythia-70m-deduped\",\n",
    "  revision=\"step3000\",\n",
    "  cache_dir=\"./pythia-70m-deduped/step3000\",\n",
    ")\n",
    "\n",
    "tokenizer = transformers.AutoTokenizer.from_pretrained(\n",
    "  \"EleutherAI/pythia-70m-deduped\",\n",
    "  revision=\"step3000\",\n",
    "  cache_dir=\"./pythia-70m-deduped/step3000\",\n",
    ")\n",
    "\n",
    "inputs = tokenizer(\"Hello, I am bob\", return_tensors=\"pt\")"
   ]
  },
  {
   "cell_type": "code",
   "execution_count": 79,
   "id": "769656f0-b42e-449d-9b74-eb9bff0f4158",
   "metadata": {},
   "outputs": [],
   "source": [
    "def ppl(logits, y_target):\n",
    "    with torch.no_grad():\n",
    "        logits = logits - logits.max()\n",
    "        probs = torch.exp(logits) / torch.sum(torch.exp(logits), dim=-1).unsqueeze(dim=-1)\n",
    "        # we exclude the last pred b/c we have nothing to predict there\n",
    "        target_probs = torch.gather(probs[0][:-1], index=y_target.view(-1, 1), dim=1)\n",
    "        perplexity = torch.exp(-1/target_probs.shape[0] * torch.log(target_probs).sum())\n",
    "    return perplexity"
   ]
  },
  {
   "cell_type": "code",
   "execution_count": 12,
   "id": "6d33d328-d71e-4d08-acbc-a873cce88fb5",
   "metadata": {},
   "outputs": [],
   "source": [
    "model_out = model(**inputs)"
   ]
  },
  {
   "cell_type": "code",
   "execution_count": 80,
   "id": "fea820c2-246d-45cd-b3e2-927cff142e89",
   "metadata": {},
   "outputs": [],
   "source": [
    "logits = model_out[\"logits\"]"
   ]
  },
  {
   "cell_type": "code",
   "execution_count": 81,
   "id": "ce69ae70-52ef-41eb-9b48-344b8452ef7e",
   "metadata": {},
   "outputs": [
    {
     "data": {
      "text/plain": [
       "tensor(149.5902)"
      ]
     },
     "execution_count": 81,
     "metadata": {},
     "output_type": "execute_result"
    }
   ],
   "source": [
    "ppl(model_out[\"logits\"], inputs[\"input_ids\"][0][1:].view(-1, 1))"
   ]
  },
  {
   "cell_type": "markdown",
   "id": "d43428ff-4ef5-4899-9b9f-ac6a8cafd67f",
   "metadata": {},
   "source": [
    "### WER "
   ]
  },
  {
   "cell_type": "code",
   "execution_count": 7,
   "id": "6f80d40e-4c03-4d23-b1a6-c717356366b1",
   "metadata": {},
   "outputs": [],
   "source": [
    "def wer(pred, target):\n",
    "    \"\"\"\n",
    "    Computes the word error rate between the prediction and the transcript\n",
    "    \n",
    "    Uses levenshtein distance between reference and predicted seq, normalized by the number of words in the reference\n",
    "    \"\"\"\n",
    "    n_pred = len(pred)\n",
    "    n_target = len(target)\n",
    "\n",
    "\n",
    "    dp = [[0]*(n_pred+1) for i in range(n_target+1)]\n",
    "\n",
    "    for i in range(1, n_target+1):\n",
    "        for j in range(1, n_pred+1):\n",
    "            # -1 b/c zero indexed \n",
    "            if target[i-1] == pred[j-1]:\n",
    "                sub = 0\n",
    "            else:\n",
    "                sub = 1\n",
    "            \n",
    "            dp[i][j] = min(dp[i][j-1] + 1, dp[i-1][j] + 1, dp[i-1][j-1] + sub)\n",
    "\n",
    "    edit_dist = dp[n_target][n_pred]\n",
    "    return edit_dist / n_target"
   ]
  },
  {
   "cell_type": "code",
   "execution_count": 11,
   "id": "a5463259-b6f6-4c57-bd44-d1d65cd8f1d7",
   "metadata": {},
   "outputs": [],
   "source": [
    "wer_pred = \"hi my name is bob and i love to run\".split(\" \")\n",
    "wer_target = \"hi my name is dave and i love running\".split(\" \")"
   ]
  },
  {
   "cell_type": "code",
   "execution_count": 12,
   "id": "0d4fe51b-b044-4dfe-a4cb-22d0903af4c7",
   "metadata": {},
   "outputs": [
    {
     "data": {
      "text/plain": [
       "0.3333333333333333"
      ]
     },
     "execution_count": 12,
     "metadata": {},
     "output_type": "execute_result"
    }
   ],
   "source": [
    "wer(wer_pred, wer_target)"
   ]
  },
  {
   "cell_type": "code",
   "execution_count": null,
   "id": "866a3165-4ae3-4de8-ab52-7ee2b401e942",
   "metadata": {},
   "outputs": [],
   "source": []
  }
 ],
 "metadata": {
  "kernelspec": {
   "display_name": "jpt",
   "language": "python",
   "name": "jpt"
  },
  "language_info": {
   "codemirror_mode": {
    "name": "ipython",
    "version": 3
   },
   "file_extension": ".py",
   "mimetype": "text/x-python",
   "name": "python",
   "nbconvert_exporter": "python",
   "pygments_lexer": "ipython3",
   "version": "3.10.16"
  }
 },
 "nbformat": 4,
 "nbformat_minor": 5
}
