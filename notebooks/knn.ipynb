{
 "cells": [
  {
   "cell_type": "markdown",
   "id": "025bee90-be40-4ae5-a9b5-e7bd44aa84ac",
   "metadata": {},
   "source": [
    "## Algorithm: K Nearest Neighbors (K-NN) \n",
    "\n",
    "- Desc\n",
    "    * Find the K-nearest nieghbors to each test-time point $x_{test}$ and majority vote to assign label to $x_{test}$\n",
    "    * K: num neighbors that are used to determine predicted class label\n",
    "        * typically an odd number (so no ties)\n",
    "- Extensions\n",
    "    * Weighted votes e.g., each neighbor gets vote proportional to inv of distance\n",
    "- Notes\n",
    "    * Doesn't really have a \"training\" phase. Training phase is just save all the data points\n",
    "    * Testing phase is expensive in space & time\n",
    "      - Space = O(N * d) if N training points\n",
    "      - Time = M * O(N * d) if N training points and M test points"
   ]
  },
  {
   "cell_type": "code",
   "execution_count": 3,
   "id": "5dcab219-c6cd-4bdc-b155-162e06d9fa55",
   "metadata": {},
   "outputs": [],
   "source": [
    "import numpy as np"
   ]
  },
  {
   "cell_type": "code",
   "execution_count": 12,
   "id": "cc52cc25-cb08-42c7-a403-6cacb7ca2e59",
   "metadata": {},
   "outputs": [],
   "source": [
    "import matplotlib.pyplot as plt"
   ]
  },
  {
   "cell_type": "code",
   "execution_count": 27,
   "id": "358d76de-1aa8-4a27-abbb-9d64ab586ed4",
   "metadata": {},
   "outputs": [],
   "source": [
    "import heapq"
   ]
  },
  {
   "cell_type": "code",
   "execution_count": 29,
   "id": "ecf0e92f-fb34-470d-8ff0-df84e878f455",
   "metadata": {},
   "outputs": [],
   "source": [
    "from collections import Counter"
   ]
  },
  {
   "cell_type": "code",
   "execution_count": 7,
   "id": "047daaa8-63da-41cf-a8bc-94daa5893064",
   "metadata": {},
   "outputs": [],
   "source": [
    "def get_random_samples(n_samples, offset, feat_dim=2):\n",
    "    samples = np.random.rand(n_samples, feat_dim)\n",
    "    samples = samples + offset\n",
    "    return samples\n",
    "    "
   ]
  },
  {
   "cell_type": "code",
   "execution_count": 42,
   "id": "30876803-34a0-4309-aefe-98c48a5add95",
   "metadata": {},
   "outputs": [],
   "source": [
    "class KNN(object):\n",
    "\n",
    "    def __init__(self, x, y):\n",
    "        self.x = x\n",
    "        self.y = y\n",
    "\n",
    "    def __call__(self, x_test, k=10):\n",
    "        labels = []\n",
    "        for x in x_test:\n",
    "            # get the k-nearest neighbors\n",
    "            dist = np.linalg.norm(self.x - x, axis=1)\n",
    "            # determine the k smallest value\n",
    "            x_idx = self._get_k_nearest(dist, k)\n",
    "            # could do this with a mean heap\n",
    "            pred = Counter(self.y[x_idx]).most_common()[0][0]\n",
    "            # get the majority vote label \n",
    "            labels.append(pred)\n",
    "        return labels\n",
    "\n",
    "    def _get_k_nearest(self, dist, k):\n",
    "        # distance, idx\n",
    "        heap = []\n",
    "        heapq.heapify(heap) #zip(dist.tolist(), list(range(self.x.shape[0]))))\n",
    "        for i, d in enumerate(dist):\n",
    "            # we add -d so max heap \n",
    "            heapq.heappush(heap, (-d, i))\n",
    "            while len(heap) > k:\n",
    "                heapq.heappop(heap)\n",
    "\n",
    "        # pop off the max elems to keep heap size at k \n",
    "        _, idx = zip(*heap) \n",
    "        return np.array(idx)\n",
    "\n",
    "        "
   ]
  },
  {
   "cell_type": "code",
   "execution_count": 44,
   "id": "0424f439-f4c7-44c6-a106-16ec91f787f1",
   "metadata": {},
   "outputs": [
    {
     "data": {
      "text/plain": [
       "[np.int64(-1),\n",
       " np.int64(-1),\n",
       " np.int64(-1),\n",
       " np.int64(-1),\n",
       " np.int64(-1),\n",
       " np.int64(-1),\n",
       " np.int64(-1),\n",
       " np.int64(-1),\n",
       " np.int64(-1),\n",
       " np.int64(-1)]"
      ]
     },
     "execution_count": 44,
     "metadata": {},
     "output_type": "execute_result"
    }
   ],
   "source": [
    "knn = KNN(x_train, y_train)\n",
    "knn(x_test * -1)"
   ]
  },
  {
   "cell_type": "code",
   "execution_count": 24,
   "id": "223e9020-ffbf-4ccc-9a7b-b1e00293bb06",
   "metadata": {},
   "outputs": [],
   "source": [
    "x_train_positive = get_random_samples(100, 10)\n",
    "y_train_positive = np.array([1] * len(x_train_positive))\n",
    "\n",
    "x_train_negative = get_random_samples(100, -10)\n",
    "y_train_negative = np.array([-1] * len(x_train_negative))"
   ]
  },
  {
   "cell_type": "code",
   "execution_count": 26,
   "id": "1f36e57f-f390-4998-8a17-ee67053848ae",
   "metadata": {},
   "outputs": [],
   "source": [
    "x_train = np.concat([x_train_positive, x_train_negative], axis=0)\n",
    "y_train = np.concat([y_train_positive, y_train_negative], axis=0)"
   ]
  },
  {
   "cell_type": "code",
   "execution_count": null,
   "id": "063be006-5421-4b9f-9e91-cff2ce430349",
   "metadata": {},
   "outputs": [],
   "source": []
  },
  {
   "cell_type": "code",
   "execution_count": 19,
   "id": "d4013a9c-a545-4ba1-a085-5d718a4a61aa",
   "metadata": {},
   "outputs": [
    {
     "data": {
      "text/plain": [
       "<matplotlib.collections.PathCollection at 0x131f80fa0>"
      ]
     },
     "execution_count": 19,
     "metadata": {},
     "output_type": "execute_result"
    },
    {
     "data": {
      "image/png": "[encoded data removed]",
      "text/plain": [
       "<Figure size 640x480 with 1 Axes>"
      ]
     },
     "metadata": {},
     "output_type": "display_data"
    }
   ],
   "source": [
    "plt.scatter(x_train_positive[:, 0], x_train_positive[:, 1], color=\"orange\")\n",
    "plt.scatter(x_train_negative[:, 0], x_train_negative[:, 1], color=\"blue\")"
   ]
  },
  {
   "cell_type": "code",
   "execution_count": 21,
   "id": "b28673f4-4b34-4954-aa91-89045709cc75",
   "metadata": {},
   "outputs": [],
   "source": [
    "x_test = get_random_samples(10, 0) * 10"
   ]
  },
  {
   "cell_type": "code",
   "execution_count": null,
   "id": "6cda3398-cbe9-4b7c-9984-349cc3f93fb0",
   "metadata": {},
   "outputs": [],
   "source": []
  }
 ],
 "metadata": {
  "kernelspec": {
   "display_name": "jpt",
   "language": "python",
   "name": "jpt"
  },
  "language_info": {
   "codemirror_mode": {
    "name": "ipython",
    "version": 3
   },
   "file_extension": ".py",
   "mimetype": "text/x-python",
   "name": "python",
   "nbconvert_exporter": "python",
   "pygments_lexer": "ipython3",
   "version": "3.10.16"
  }
 },
 "nbformat": 4,
 "nbformat_minor": 5
}
