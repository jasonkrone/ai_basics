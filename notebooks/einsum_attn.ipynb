{
 "cells": [
  {
   "cell_type": "code",
   "execution_count": 111,
   "id": "e47e2590-80bd-45db-a628-fc49b7815874",
   "metadata": {},
   "outputs": [],
   "source": [
    "import torch\n",
    "import torch.nn as nn\n",
    "import torch.nn.functional as F\n",
    "\n",
    "import math"
   ]
  },
  {
   "cell_type": "markdown",
   "id": "a2e83901-3b6e-40c8-ac58-d1f4d92965ec",
   "metadata": {},
   "source": [
    "# Einsum Rules\n",
    "\n",
    "1. repeated indices are summed over e.g., \"ik,kj->ij\" means you sum over K\n",
    "2. implicit multiplication is done b/t the elements from the first tensor and element from the second tensor i.e. A_ik and B_kj\n",
    "3. Indices that appear only once define the shape of the output e.g., \"ik,kj->ij\" means i and j determine the output shape i.e. num rows in A, num cols in B\n",
    "4. omitting the indices after -> sums over all dims\n",
    "5. Ellipsis (...) can represent multiple dims e.g., \"...ik,...kj->...ij\" allow for batch matrix multiplication with any number of batch dims"
   ]
  },
  {
   "cell_type": "code",
   "execution_count": null,
   "id": "9ddf7bbe-6af0-4224-baa5-977a210bcaf5",
   "metadata": {},
   "outputs": [],
   "source": []
  },
  {
   "cell_type": "markdown",
   "id": "474d780f-6772-4019-bb79-f7bbe6d5eeb8",
   "metadata": {},
   "source": [
    "# MHSA"
   ]
  },
  {
   "cell_type": "code",
   "execution_count": null,
   "id": "9a1fb938-531f-4f15-aa49-30feac93d778",
   "metadata": {},
   "outputs": [],
   "source": []
  },
  {
   "cell_type": "code",
   "execution_count": 131,
   "id": "f896eec5-f8e5-44b6-a1db-7be1f8cf49c6",
   "metadata": {},
   "outputs": [],
   "source": [
    "class Attn(nn.Module):\n",
    "\n",
    "\n",
    "    def forward(self, Q, K, V):\n",
    "        N, T, H, E = K.shape\n",
    "        # reshape Q, K, V to (N, H, T, E)\n",
    "        Q = Q.transpose(1, 2)\n",
    "        K = K.transpose(1, 2)\n",
    "        V = V.transpose(1, 2)\n",
    "\n",
    "        scale = 1 / math.sqrt(E)\n",
    "        # (N, H, T, E) x (N, H, E, T) = (N, H, T, T)\n",
    "        logits = torch.matmul(Q, K.transpose(3, 2)) * scale\n",
    "        scores = F.softmax(logits, dim=-1)\n",
    "        # (N, H, T, T) x (N, H, T, E) = (N, H, T, E)\n",
    "        out = torch.matmul(scores, V)\n",
    "        # (N, H, T, E) => (N, T, H, E)\n",
    "        out = out.transpose(1, 2)\n",
    "        return out\n",
    "\n",
    "\n",
    "\n",
    "class EinsumAttn(nn.Module):\n",
    "\n",
    "    def forward(self, Q, K, V):\n",
    "        \"\"\"\n",
    "        Q: (N, T, H, E)\n",
    "        K: (N, T, H, E)\n",
    "        V: (N, T, H, D)\n",
    "\n",
    "        Computes the multi-head scaled dot product attention operation on the input\n",
    "\n",
    "        softmax((Q @ K.T) / sqrt(E)) @ V\n",
    "        \"\"\"\n",
    "        N, T, H, E = K.shape\n",
    "\n",
    "        # arrange shapes to be (N, H, T, _)\n",
    "        Q = torch.einsum(\"nthe->nhte\", [Q])\n",
    "        K = torch.einsum(\"nthe->nhte\", [K])\n",
    "        V = torch.einsum(\"nthe->nhte\", [V])\n",
    "\n",
    "        # compute attention\n",
    "        scale = 1.0 / math.sqrt(E)\n",
    "        # compute Q @ K.T \n",
    "        logits = torch.einsum(\"nhij,nhkj->nhik\", [Q, K]) * scale\n",
    "        scores = F.softmax(logits, dim=-1)\n",
    "        # (N, H, T, T) x (N, H, T, D) => (N, H, T, D)\n",
    "        out = torch.einsum(\"nhik,nhkj->nhij\", [scores, V])\n",
    "        # arrange out shape to be (N, T, H, D)\n",
    "        out = torch.einsum(\"nhij->nihj\", [out])\n",
    "        return out"
   ]
  },
  {
   "cell_type": "code",
   "execution_count": 133,
   "id": "e9214fbd-28f9-4dd5-a1f4-f04f120e0dd6",
   "metadata": {},
   "outputs": [],
   "source": [
    "N = 2\n",
    "T = 3\n",
    "H = 4\n",
    "E = 5\n",
    "D = 6\n",
    "\n",
    "Q = torch.rand(N, T, H, E)\n",
    "K = torch.rand(N, T, H, E)\n",
    "V = torch.rand(N, T, H, D)"
   ]
  },
  {
   "cell_type": "code",
   "execution_count": 134,
   "id": "dbfd6497-b10e-4f70-a24a-14a19a744599",
   "metadata": {},
   "outputs": [],
   "source": [
    "torch_out = F.scaled_dot_product_attention(Q.transpose(1, 2), K.transpose(1, 2), V.transpose(1, 2))\n",
    "torch_out = torch_out.transpose(1, 2)"
   ]
  },
  {
   "cell_type": "code",
   "execution_count": 135,
   "id": "acc3e457-2e1a-4eee-bcff-0682366c60e9",
   "metadata": {},
   "outputs": [],
   "source": [
    "ein_att = EinsumAttn()\n",
    "ein_out = ein_att(Q, K, V)"
   ]
  },
  {
   "cell_type": "code",
   "execution_count": 136,
   "id": "4965bfae-7817-4a4d-a167-b1d790a6dc30",
   "metadata": {},
   "outputs": [],
   "source": [
    "attn = Attn()\n",
    "attn_out = attn(Q, K, V)"
   ]
  },
  {
   "cell_type": "code",
   "execution_count": 137,
   "id": "5a96f9fb-fd28-4a6f-935b-c05a8feb39ef",
   "metadata": {},
   "outputs": [
    {
     "data": {
      "text/plain": [
       "True"
      ]
     },
     "execution_count": 137,
     "metadata": {},
     "output_type": "execute_result"
    }
   ],
   "source": [
    "torch.allclose(torch_out, ein_out)"
   ]
  },
  {
   "cell_type": "code",
   "execution_count": 138,
   "id": "76fd69e6-bee7-429f-9dde-4831da06ba14",
   "metadata": {},
   "outputs": [
    {
     "data": {
      "text/plain": [
       "True"
      ]
     },
     "execution_count": 138,
     "metadata": {},
     "output_type": "execute_result"
    }
   ],
   "source": [
    "torch.allclose(attn_out, torch_out)"
   ]
  },
  {
   "cell_type": "code",
   "execution_count": null,
   "id": "ad1369ab-d2d3-41ea-803f-ba972fcaa982",
   "metadata": {},
   "outputs": [],
   "source": []
  },
  {
   "cell_type": "markdown",
   "id": "f429ac9a-a0fd-444d-bb4f-db6f027aec87",
   "metadata": {},
   "source": [
    "# Practice"
   ]
  },
  {
   "cell_type": "code",
   "execution_count": 72,
   "id": "7fac548f-59da-4b01-ab4b-f027184fb840",
   "metadata": {},
   "outputs": [
    {
     "data": {
      "text/plain": [
       "tensor([[0.7139, 0.4191, 0.1453],\n",
       "        [0.2913, 0.5299, 0.3287],\n",
       "        [0.9360, 0.7446, 0.2974],\n",
       "        [0.6496, 0.7781, 0.2169]])"
      ]
     },
     "execution_count": 72,
     "metadata": {},
     "output_type": "execute_result"
    }
   ],
   "source": [
    "A.T"
   ]
  },
  {
   "cell_type": "code",
   "execution_count": 74,
   "id": "bc4d37bf-2066-467d-9c43-957ec3cf28f7",
   "metadata": {},
   "outputs": [
    {
     "data": {
      "text/plain": [
       "tensor([[1.8925, 1.6559, 0.6187],\n",
       "        [1.6559, 1.6163, 0.6253],\n",
       "        [0.6187, 0.6253, 0.2647]])"
      ]
     },
     "execution_count": 74,
     "metadata": {},
     "output_type": "execute_result"
    }
   ],
   "source": [
    "torch.matmul(A, A.T)"
   ]
  },
  {
   "cell_type": "code",
   "execution_count": 78,
   "id": "44fc8cf6-55d4-4845-8f01-bea8849e8e8f",
   "metadata": {},
   "outputs": [
    {
     "data": {
      "text/plain": [
       "tensor([[1.8925, 1.6559, 0.6187],\n",
       "        [1.6559, 1.6163, 0.6253],\n",
       "        [0.6187, 0.6253, 0.2647]])"
      ]
     },
     "execution_count": 78,
     "metadata": {},
     "output_type": "execute_result"
    }
   ],
   "source": [
    "torch.einsum(\"ij,kj->ik\", [A, A])"
   ]
  },
  {
   "cell_type": "code",
   "execution_count": null,
   "id": "6e829fea-c901-491f-8dfa-b9339d8d00e5",
   "metadata": {},
   "outputs": [],
   "source": []
  },
  {
   "cell_type": "markdown",
   "id": "d637d73b-cc3d-4a89-bde0-129cb7a1b642",
   "metadata": {},
   "source": [
    "### Matrix mat mul"
   ]
  },
  {
   "cell_type": "code",
   "execution_count": 9,
   "id": "1d03e614-dc5b-4685-b391-df39660a7cc1",
   "metadata": {},
   "outputs": [],
   "source": [
    "A = torch.rand(3, 4)"
   ]
  },
  {
   "cell_type": "code",
   "execution_count": 11,
   "id": "b1bde2e9-86c0-4089-8a5f-2176f6ad591a",
   "metadata": {},
   "outputs": [],
   "source": [
    "B = torch.rand(4, 3)"
   ]
  },
  {
   "cell_type": "code",
   "execution_count": 12,
   "id": "b9560c29-e60c-4b53-9707-b536c2b0fcb6",
   "metadata": {},
   "outputs": [
    {
     "data": {
      "text/plain": [
       "tensor([[0.7445, 0.6853, 0.3380],\n",
       "        [0.7750, 0.9510, 0.8061],\n",
       "        [1.4233, 0.9981, 0.8949]])"
      ]
     },
     "execution_count": 12,
     "metadata": {},
     "output_type": "execute_result"
    }
   ],
   "source": [
    "torch.matmul(A, B)"
   ]
  },
  {
   "cell_type": "code",
   "execution_count": 13,
   "id": "5130e296-a155-4744-a635-2abf288af834",
   "metadata": {},
   "outputs": [
    {
     "data": {
      "text/plain": [
       "tensor([[0.7445, 0.6853, 0.3380],\n",
       "        [0.7750, 0.9510, 0.8061],\n",
       "        [1.4233, 0.9981, 0.8949]])"
      ]
     },
     "execution_count": 13,
     "metadata": {},
     "output_type": "execute_result"
    }
   ],
   "source": [
    "torch.einsum(\"ik,kj->ij\", [A, B])"
   ]
  },
  {
   "cell_type": "markdown",
   "id": "c5b306b0-c510-435b-8ade-d0d522f08420",
   "metadata": {},
   "source": [
    "### Batch Matrix Mat mul"
   ]
  },
  {
   "cell_type": "code",
   "execution_count": 15,
   "id": "2ce22304-87b0-43a8-9c7b-58a988a52a7b",
   "metadata": {},
   "outputs": [],
   "source": [
    "A = torch.rand(10, 3, 4)"
   ]
  },
  {
   "cell_type": "code",
   "execution_count": 16,
   "id": "d9b6e2b9-5a07-4f27-9f3f-f0b7ed390e96",
   "metadata": {},
   "outputs": [],
   "source": [
    "B = torch.rand(10, 4, 5)"
   ]
  },
  {
   "cell_type": "code",
   "execution_count": 18,
   "id": "61cb0591-44db-41dd-b5b1-ee8c71d8c341",
   "metadata": {},
   "outputs": [],
   "source": [
    "Cmm = torch.matmul(A, B) "
   ]
  },
  {
   "cell_type": "code",
   "execution_count": 19,
   "id": "fc9283a1-d83b-47f0-9f60-8cbf1dc5a4ab",
   "metadata": {},
   "outputs": [],
   "source": [
    "Cein = torch.einsum(\"bik,bkj->bij\", [A, B])"
   ]
  },
  {
   "cell_type": "code",
   "execution_count": 23,
   "id": "36b922d7-b3fe-4d03-93aa-deb08ab65dd0",
   "metadata": {},
   "outputs": [
    {
     "data": {
      "text/plain": [
       "True"
      ]
     },
     "execution_count": 23,
     "metadata": {},
     "output_type": "execute_result"
    }
   ],
   "source": [
    "torch.equal(Cein, Cmm)"
   ]
  },
  {
   "cell_type": "markdown",
   "id": "eae7a5ca-a0fc-4e58-ba83-9bf683044fb9",
   "metadata": {},
   "source": [
    "### Dot product"
   ]
  },
  {
   "cell_type": "code",
   "execution_count": 24,
   "id": "7b011e68-143e-43f4-8cdb-f628b8b065ed",
   "metadata": {},
   "outputs": [],
   "source": [
    "a = torch.rand(10)"
   ]
  },
  {
   "cell_type": "code",
   "execution_count": 25,
   "id": "ce840813-ace4-4301-9308-d03cb24e73c5",
   "metadata": {},
   "outputs": [],
   "source": [
    "b = torch.rand(10)"
   ]
  },
  {
   "cell_type": "code",
   "execution_count": 26,
   "id": "fdeaf5ab-09e0-4ffe-99a7-d517f7f43733",
   "metadata": {},
   "outputs": [
    {
     "data": {
      "text/plain": [
       "tensor(2.5617)"
      ]
     },
     "execution_count": 26,
     "metadata": {},
     "output_type": "execute_result"
    }
   ],
   "source": [
    "torch.dot(a, b)"
   ]
  },
  {
   "cell_type": "code",
   "execution_count": 27,
   "id": "1d035ada-04af-4ab7-a2b0-a46319fbd059",
   "metadata": {},
   "outputs": [
    {
     "data": {
      "text/plain": [
       "tensor(2.5617)"
      ]
     },
     "execution_count": 27,
     "metadata": {},
     "output_type": "execute_result"
    }
   ],
   "source": [
    "torch.einsum(\"i,i->\", [a, b])"
   ]
  },
  {
   "cell_type": "markdown",
   "id": "afc5af7f-f690-4852-ab72-bff82de1e8a7",
   "metadata": {},
   "source": [
    "### Outer Product"
   ]
  },
  {
   "cell_type": "code",
   "execution_count": 31,
   "id": "18b9cc05-1a1b-4e7d-8620-24f639265d57",
   "metadata": {},
   "outputs": [],
   "source": [
    "outer = torch.outer(a, b)"
   ]
  },
  {
   "cell_type": "code",
   "execution_count": 32,
   "id": "38191e9d-a476-438a-be79-c6e57b8ad31c",
   "metadata": {},
   "outputs": [],
   "source": [
    "outer_ein = torch.einsum(\"i,j->ij\", [a, b])"
   ]
  },
  {
   "cell_type": "code",
   "execution_count": 33,
   "id": "53a126b6-a091-4cba-a83e-a37d3388abfc",
   "metadata": {},
   "outputs": [
    {
     "data": {
      "text/plain": [
       "True"
      ]
     },
     "execution_count": 33,
     "metadata": {},
     "output_type": "execute_result"
    }
   ],
   "source": [
    "torch.equal(outer, outer_ein)"
   ]
  },
  {
   "cell_type": "markdown",
   "id": "18595de8-f4c9-436f-bf73-d2352e6859d5",
   "metadata": {},
   "source": [
    "### Transpose"
   ]
  },
  {
   "cell_type": "code",
   "execution_count": 34,
   "id": "890619f7-82b0-4d3b-bf70-75f81f477e06",
   "metadata": {},
   "outputs": [],
   "source": [
    "A = torch.rand(3, 4)"
   ]
  },
  {
   "cell_type": "code",
   "execution_count": 36,
   "id": "8968cd20-1ea4-401a-8510-2cd7ea0f6827",
   "metadata": {},
   "outputs": [],
   "source": [
    "A_transpose = A.T"
   ]
  },
  {
   "cell_type": "code",
   "execution_count": 41,
   "id": "04d44916-819e-48b9-99fd-3691a6825e96",
   "metadata": {},
   "outputs": [],
   "source": [
    "A_transpose_ein = torch.einsum(\"ij->ji\", [A])"
   ]
  },
  {
   "cell_type": "code",
   "execution_count": 42,
   "id": "7c2e0922-508a-4334-8047-0edf2f682d25",
   "metadata": {},
   "outputs": [
    {
     "data": {
      "text/plain": [
       "True"
      ]
     },
     "execution_count": 42,
     "metadata": {},
     "output_type": "execute_result"
    }
   ],
   "source": [
    "torch.equal(A_transpose, A_transpose_ein)"
   ]
  },
  {
   "cell_type": "code",
   "execution_count": null,
   "id": "0e1ab5a6-f38d-4770-8c73-a63cb580949d",
   "metadata": {},
   "outputs": [],
   "source": []
  }
 ],
 "metadata": {
  "kernelspec": {
   "display_name": "jpt",
   "language": "python",
   "name": "jpt"
  },
  "language_info": {
   "codemirror_mode": {
    "name": "ipython",
    "version": 3
   },
   "file_extension": ".py",
   "mimetype": "text/x-python",
   "name": "python",
   "nbconvert_exporter": "python",
   "pygments_lexer": "ipython3",
   "version": "3.10.16"
  }
 },
 "nbformat": 4,
 "nbformat_minor": 5
}
