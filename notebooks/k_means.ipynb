{
 "cells": [
  {
   "cell_type": "markdown",
   "id": "504135ff-9bd7-427e-8bb6-62384d4f1936",
   "metadata": {},
   "source": [
    "## K-means Algorithm\n",
    "\n",
    "https://stanford.edu/~cpiech/cs221/handouts/kmeans.html\n",
    "\n",
    "### Algo\n",
    "\n",
    "- randomly init k centroids from k random, distinct points in dataset\n",
    "- for n iters\n",
    "    - assign points to closest centroid\n",
    "    - update centroid i to be the mean of the points assigned\n",
    "\n",
    "### Questions\n",
    "\n",
    "1. is there such a thing as mini-batch k-means? "
   ]
  },
  {
   "cell_type": "code",
   "execution_count": 48,
   "id": "fc441647-422b-45ad-b7cb-7977e55dcbf0",
   "metadata": {},
   "outputs": [],
   "source": [
    "import numpy as np\n",
    "from collections import defaultdict \n",
    "import matplotlib.pyplot as plt"
   ]
  },
  {
   "cell_type": "code",
   "execution_count": 134,
   "id": "00d7036d-b03f-4ef7-9dee-03ae760dfd5f",
   "metadata": {},
   "outputs": [],
   "source": [
    "def gen_cluster(n, x_offset, y_offset):\n",
    "    x = np.random.rand(n).reshape(-1, 1) + x_offset\n",
    "    y = np.random.rand(n).reshape(-1, 1) + y_offset\n",
    "    return np.concatenate([x, y], axis=1)"
   ]
  },
  {
   "cell_type": "code",
   "execution_count": 173,
   "id": "e6513cec-3742-4860-8ec6-4bceb11f03cf",
   "metadata": {},
   "outputs": [],
   "source": [
    "idxs = np.random.choice(10, 2, replace=False)"
   ]
  },
  {
   "cell_type": "code",
   "execution_count": 174,
   "id": "70fb7ac6-1841-44a7-9e50-aaaa33b19fb9",
   "metadata": {},
   "outputs": [
    {
     "data": {
      "text/plain": [
       "array([8, 2])"
      ]
     },
     "execution_count": 174,
     "metadata": {},
     "output_type": "execute_result"
    }
   ],
   "source": [
    "idxs"
   ]
  },
  {
   "cell_type": "code",
   "execution_count": 194,
   "id": "319ebe03-c0b4-4ac0-b0a2-c614320d491b",
   "metadata": {},
   "outputs": [],
   "source": [
    "class Kmeans(object):\n",
    "\n",
    "    def __init__(self, k, n_feats, n_iters):\n",
    "        self.k = k\n",
    "        self.n_iters = n_iters\n",
    "        # centroids are rows\n",
    "        self.centroids = np.zeros((k, n_feats))\n",
    "\n",
    "    def fit(self, x):\n",
    "        \"\"\"\n",
    "        Runs for n_iters and updates centroids\n",
    "        \"\"\"\n",
    "        # init centroids to random data points\n",
    "        idxs = np.random.choice(x.shape[0], size=self.k, replace=False)\n",
    "        self.centroids = x[idxs]\n",
    "        \n",
    "        for _ in range(self.n_iters):\n",
    "            # assign points to centroids\n",
    "            dists = np.zeros((x.shape[0], self.k))\n",
    "            for j in range(self.k):\n",
    "                c = self.centroids[j]\n",
    "                dists[:, j] = np.linalg.norm(x - c, axis=1)\n",
    "            clusters = np.argmin(dists, axis=1)\n",
    "\n",
    "            for j in range(self.k):\n",
    "                if np.sum(x[clusters == j]):\n",
    "                    self.centroids[j] = np.mean(x[clusters == j], axis=0)\n",
    "            \n",
    "        # predict the cluster labels for each datapoint\n",
    "        out = np.array([self.get_closest_centroid(xx) for xx in x])\n",
    "        return out\n",
    "        \n",
    "    def get_closest_centroid(self, x_i):    \n",
    "        min_d = float(\"inf\") \n",
    "        min_c = -1\n",
    "        \n",
    "        for j in range(self.k):\n",
    "            c_j = self.centroids[j]\n",
    "            d = np.sqrt(np.sum((c_j - x_i)**2))\n",
    "            if d < min_d:\n",
    "                min_d = d\n",
    "                min_c = j\n",
    "\n",
    "        return min_c"
   ]
  },
  {
   "cell_type": "code",
   "execution_count": 195,
   "id": "28a50756-0642-426b-8b2a-e691be8db381",
   "metadata": {},
   "outputs": [
    {
     "data": {
      "text/plain": [
       "array([[0., 0., 0., 0.],\n",
       "       [0., 0., 0., 0.],\n",
       "       [0., 0., 0., 0.]])"
      ]
     },
     "execution_count": 195,
     "metadata": {},
     "output_type": "execute_result"
    }
   ],
   "source": [
    "np.zeros((3, 4))"
   ]
  },
  {
   "cell_type": "code",
   "execution_count": 189,
   "id": "61423a28-ec2a-4430-b11e-0b9174b8375f",
   "metadata": {},
   "outputs": [],
   "source": [
    "C1 = gen_cluster(10, 0, 5)"
   ]
  },
  {
   "cell_type": "code",
   "execution_count": 190,
   "id": "0d6719ed-361f-4e82-a05d-788d48b0fdb7",
   "metadata": {},
   "outputs": [],
   "source": [
    "C2 = gen_cluster(10, -10, -10)"
   ]
  },
  {
   "cell_type": "code",
   "execution_count": 179,
   "id": "6fba8c8c-8518-40fd-9eae-92f0abf879ef",
   "metadata": {},
   "outputs": [],
   "source": [
    "C3 = gen_cluster(10, 0, 0)"
   ]
  },
  {
   "cell_type": "code",
   "execution_count": 180,
   "id": "e8062fd2-4d1b-4139-ae4e-45ed6f5e0cee",
   "metadata": {},
   "outputs": [],
   "source": [
    "X = np.concatenate([C1, C2, C3], axis=0)"
   ]
  },
  {
   "cell_type": "code",
   "execution_count": 181,
   "id": "5e7b6722-bbb9-48eb-8e2d-22289cbe9acf",
   "metadata": {},
   "outputs": [
    {
     "data": {
      "text/plain": [
       "array([0, 0, 0, 0, 0, 0, 0, 0, 0, 0, 1, 0, 0, 0, 1, 1, 0, 1, 1, 1, 0, 1,\n",
       "       1, 1, 1, 0, 1, 1, 1, 0])"
      ]
     },
     "execution_count": 181,
     "metadata": {},
     "output_type": "execute_result"
    }
   ],
   "source": [
    "np.argmin(X, axis=1)"
   ]
  },
  {
   "cell_type": "code",
   "execution_count": 182,
   "id": "dc60e97b-e0cc-45b5-8a59-b8ad884da92e",
   "metadata": {},
   "outputs": [
    {
     "data": {
      "text/plain": [
       "array([0.41746157, 5.29856474])"
      ]
     },
     "execution_count": 182,
     "metadata": {},
     "output_type": "execute_result"
    }
   ],
   "source": [
    "km.centroids[0]"
   ]
  },
  {
   "cell_type": "code",
   "execution_count": 183,
   "id": "3c76476d-b233-4ef6-a01e-4f7088de657c",
   "metadata": {},
   "outputs": [
    {
     "data": {
      "text/plain": [
       "(30,)"
      ]
     },
     "execution_count": 183,
     "metadata": {},
     "output_type": "execute_result"
    }
   ],
   "source": [
    "np.linalg.norm(X, axis=1).shape"
   ]
  },
  {
   "cell_type": "code",
   "execution_count": 184,
   "id": "73d9db69-6dee-4625-856b-2ebfe18d9992",
   "metadata": {},
   "outputs": [
    {
     "data": {
      "text/plain": [
       "array([ 0.30292487,  0.28549364,  0.74910692,  0.48605956,  0.24755168,\n",
       "        0.27315216,  0.27053229,  0.31957638,  0.48616359,  0.26303677,\n",
       "       17.99835826, 18.21878236, 18.19564113, 17.88763395, 17.68845058,\n",
       "       18.03323016, 17.40627443, 17.89152861, 18.24833328, 18.34437202,\n",
       "        4.89800159,  4.94490145,  4.89439061,  4.68351214,  5.27292769,\n",
       "        4.35705451,  4.70948443,  4.94130136,  4.8926341 ,  4.86750685])"
      ]
     },
     "execution_count": 184,
     "metadata": {},
     "output_type": "execute_result"
    }
   ],
   "source": [
    "np.linalg.norm(X - km.centroids[0], axis=1)"
   ]
  },
  {
   "cell_type": "code",
   "execution_count": 197,
   "id": "f163c282-de9a-4d02-aeee-8dc8eddeed85",
   "metadata": {},
   "outputs": [],
   "source": [
    "km = Kmeans(k=4, n_feats=2, n_iters=20)"
   ]
  },
  {
   "cell_type": "code",
   "execution_count": 198,
   "id": "9475207f-6e77-4a77-ab6d-2c9c99d4b684",
   "metadata": {},
   "outputs": [
    {
     "data": {
      "text/plain": [
       "(30, 2)"
      ]
     },
     "execution_count": 198,
     "metadata": {},
     "output_type": "execute_result"
    }
   ],
   "source": [
    "X.shape"
   ]
  },
  {
   "cell_type": "code",
   "execution_count": 199,
   "id": "0b559125-dc2f-4771-8859-37b3785ee93c",
   "metadata": {},
   "outputs": [],
   "source": [
    "clusters = km.fit(X)"
   ]
  },
  {
   "cell_type": "code",
   "execution_count": 200,
   "id": "ae4f73c7-105f-4427-9fb2-5a4a139ef966",
   "metadata": {},
   "outputs": [
    {
     "data": {
      "image/png": "[encoded data removed]",
      "text/plain": [
       "<Figure size 640x480 with 1 Axes>"
      ]
     },
     "metadata": {},
     "output_type": "display_data"
    }
   ],
   "source": [
    "for k in range(km.k):\n",
    "    bool_idxs = clusters == k\n",
    "    x_cluster = X[bool_idxs][:, 0]\n",
    "    y_cluster = X[bool_idxs][:, 1]\n",
    "    plt.scatter(x_cluster, y_cluster, label=f\"cluster {k}\")\n",
    "plt.legend()\n",
    "plt.show()"
   ]
  },
  {
   "cell_type": "code",
   "execution_count": null,
   "id": "9dca1a69-883d-4e63-a46e-228b567451b5",
   "metadata": {},
   "outputs": [],
   "source": []
  },
  {
   "cell_type": "code",
   "execution_count": 201,
   "id": "9e634add-6577-42a4-9ea0-24c10731852f",
   "metadata": {},
   "outputs": [
    {
     "data": {
      "text/plain": [
       "<matplotlib.legend.Legend at 0x1352c97e0>"
      ]
     },
     "execution_count": 201,
     "metadata": {},
     "output_type": "execute_result"
    },
    {
     "data": {
      "image/png": "[encoded data removed]",
      "text/plain": [
       "<Figure size 640x480 with 1 Axes>"
      ]
     },
     "metadata": {},
     "output_type": "display_data"
    }
   ],
   "source": [
    "plt.scatter(C1[:, 0], C1[:, 1], label=\"c1\")\n",
    "plt.scatter(C2[:, 0], C2[:, 1], label=\"c2\")\n",
    "plt.scatter(C3[:, 0], C3[:, 1], label=\"c3\")\n",
    "plt.legend()"
   ]
  },
  {
   "cell_type": "code",
   "execution_count": null,
   "id": "a3686b53-4630-408b-9bb1-047cd4edfa5d",
   "metadata": {},
   "outputs": [],
   "source": []
  },
  {
   "cell_type": "code",
   "execution_count": null,
   "id": "9e0a88f7-8a22-49ed-8039-e81de626f8dc",
   "metadata": {},
   "outputs": [],
   "source": []
  },
  {
   "cell_type": "code",
   "execution_count": null,
   "id": "2fe44979-0398-4279-83e0-84fa16c14355",
   "metadata": {},
   "outputs": [],
   "source": []
  },
  {
   "cell_type": "code",
   "execution_count": null,
   "id": "0e92d9d3-78cc-4470-9174-b6c50c05f6e7",
   "metadata": {},
   "outputs": [],
   "source": []
  },
  {
   "cell_type": "code",
   "execution_count": null,
   "id": "6cce93cd-cf4a-4bb9-bb5e-0fb7ccf3f9dc",
   "metadata": {},
   "outputs": [],
   "source": []
  }
 ],
 "metadata": {
  "kernelspec": {
   "display_name": "jpt",
   "language": "python",
   "name": "jpt"
  },
  "language_info": {
   "codemirror_mode": {
    "name": "ipython",
    "version": 3
   },
   "file_extension": ".py",
   "mimetype": "text/x-python",
   "name": "python",
   "nbconvert_exporter": "python",
   "pygments_lexer": "ipython3",
   "version": "3.10.16"
  }
 },
 "nbformat": 4,
 "nbformat_minor": 5
}
